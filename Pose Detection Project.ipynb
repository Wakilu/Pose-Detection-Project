{
 "cells": [
  {
   "cell_type": "code",
   "execution_count": 9,
   "id": "5b3f022b",
   "metadata": {},
   "outputs": [],
   "source": [
    "# Step 1: Import all necessary libraries\n",
    "import cv2 \n",
    "import mediapipe as mp"
   ]
  },
  {
   "cell_type": "code",
   "execution_count": 10,
   "id": "29baeb01",
   "metadata": {},
   "outputs": [],
   "source": [
    "# Step 2: I dentify your webcam\n",
    "cap = cv2.VideoCapture(0) # Local webcam -0, External webcam -1"
   ]
  },
  {
   "cell_type": "code",
   "execution_count": 11,
   "id": "4144443c",
   "metadata": {},
   "outputs": [],
   "source": [
    "# step 4: leveraging the Mediapipe library used for hand detection\n",
    "\n",
    "mpPose = mp.solutions.pose\n",
    "pose = mpPose.Pose()\n",
    "mpDraw = mp.solutions.drawing_utils"
   ]
  },
  {
   "cell_type": "code",
   "execution_count": 12,
   "id": "1dbdc5d3",
   "metadata": {},
   "outputs": [],
   "source": [
    "# Step 3: Switch on webcam\n",
    "while True:\n",
    "    _, img = cap.read()\n",
    "    \n",
    "    # convert image BGR to RGB\n",
    "    imgRGB = cv2.cvtColor(img, cv2.COLOR_BGR2RGB)\n",
    "\n",
    "    # Apply mediapipe\n",
    "    results = pose.process(imgRGB)\n",
    "\n",
    "    #print(results.pose_landmarks)\n",
    "    \n",
    "    # Draw landmark\n",
    "    if results.pose_landmarks:\n",
    "        mpDraw.draw_landmarks(img, results.pose_landmarks, mpPose.POSE_CONNECTIONS)\n",
    "        \n",
    "        \n",
    "    cv2.putText(img, \"10Alytics Pose Detection\", (10, 50), cv2.FONT_HERSHEY_PLAIN, 3, (0,255,255), 2)\n",
    "    cv2.imshow(\"10Alytics pose detection project\", img)\n",
    "    if cv2.waitKey(1) & 0xFF == ord('k'):\n",
    "        break\n",
    "    \n",
    "# Release the capture once all the processing is done.\n",
    "cap.release()\n",
    "cv2.destroyAllWindows()"
   ]
  },
  {
   "cell_type": "code",
   "execution_count": null,
   "id": "c5d00822",
   "metadata": {},
   "outputs": [],
   "source": []
  }
 ],
 "metadata": {
  "kernelspec": {
   "display_name": "Python 3 (ipykernel)",
   "language": "python",
   "name": "python3"
  },
  "language_info": {
   "codemirror_mode": {
    "name": "ipython",
    "version": 3
   },
   "file_extension": ".py",
   "mimetype": "text/x-python",
   "name": "python",
   "nbconvert_exporter": "python",
   "pygments_lexer": "ipython3",
   "version": "3.9.12"
  }
 },
 "nbformat": 4,
 "nbformat_minor": 5
}
